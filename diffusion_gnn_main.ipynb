{
 "cells": [
  {
   "cell_type": "code",
   "execution_count": 7,
   "id": "eff14dfc-73e1-4366-8b87-dc2349c39a26",
   "metadata": {},
   "outputs": [],
   "source": [
    "import os\n",
    "import tensorflow as tf\n",
    "from tensorflow import keras\n",
    "from keras import layers\n",
    "import matplotlib.pyplot as plt\n",
    "import numpy as np\n",
    "import diffusion_gnn_main\n",
    "\n",
    "from tensorflow.python.ops.numpy_ops import np_config\n",
    "np_config.enable_numpy_behavior()"
   ]
  },
  {
   "cell_type": "code",
   "execution_count": 2,
   "id": "f0b91e97-4e9a-42ec-b16c-55810f7c4772",
   "metadata": {},
   "outputs": [
    {
     "name": "stdout",
     "output_type": "stream",
     "text": [
      "GPU 0: NVIDIA A100-SXM4-40GB (UUID: GPU-75c524aa-28ef-bbd0-042c-7ad82f447890)\n",
      "GPU 1: NVIDIA A100-SXM4-40GB (UUID: GPU-007d4182-fbcf-62a3-5984-6ce5099619e7)\n",
      "GPU 2: NVIDIA A100-SXM4-40GB (UUID: GPU-378e12cf-f1a3-65e7-b4a6-9e5c853840b4)\n",
      "GPU 3: NVIDIA A100-SXM4-40GB (UUID: GPU-59839cac-0330-8cbb-c36b-b9d29ff24968)\n"
     ]
    }
   ],
   "source": [
    "! nvidia-smi -L # list GPUs available"
   ]
  },
  {
   "cell_type": "code",
   "execution_count": 8,
   "id": "b6952b0e-76f8-44b6-9cfd-52c704f25578",
   "metadata": {},
   "outputs": [],
   "source": [
    "### GPU Setup\n",
    "os.environ[\"CUDA_VISIBLE_DEVICES\"] = \"1\"\n",
    "physical_devices = tf.config.list_physical_devices('GPU') \n",
    "#tf.config.experimental.set_memory_growth(physical_devices[0], True)"
   ]
  },
  {
   "cell_type": "code",
   "execution_count": 9,
   "id": "2a6881b3-ec12-4867-898b-0791e255b106",
   "metadata": {},
   "outputs": [],
   "source": [
    "batch_size = 1000\n",
    "num_nodes = 4\n",
    "num_features = 3"
   ]
  },
  {
   "cell_type": "code",
   "execution_count": 12,
   "id": "5082761d-14fd-4e39-aa62-f2b6992dee02",
   "metadata": {},
   "outputs": [
    {
     "data": {
      "text/plain": [
       "TensorShape([4000, 3])"
      ]
     },
     "execution_count": 12,
     "metadata": {},
     "output_type": "execute_result"
    }
   ],
   "source": [
    "features = tf.random.normal([batch_size * num_nodes, num_features]) + 3.\n",
    "graph = diffusion_gnn_main.Graph.generate_fully_connected_graph(features, num_nodes, batch_size)\n",
    "features.shape"
   ]
  },
  {
   "cell_type": "code",
   "execution_count": null,
   "id": "50823e6c-98bc-40c4-92c1-d58ae3350389",
   "metadata": {},
   "outputs": [],
   "source": []
  }
 ],
 "metadata": {
  "kernelspec": {
   "display_name": "tensorflow-2.9.0",
   "language": "python",
   "name": "tensorflow-2.9.0"
  },
  "language_info": {
   "codemirror_mode": {
    "name": "ipython",
    "version": 3
   },
   "file_extension": ".py",
   "mimetype": "text/x-python",
   "name": "python",
   "nbconvert_exporter": "python",
   "pygments_lexer": "ipython3",
   "version": "3.9.15"
  }
 },
 "nbformat": 4,
 "nbformat_minor": 5
}
