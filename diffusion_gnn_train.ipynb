{
 "cells": [
  {
   "cell_type": "code",
   "execution_count": 1,
   "id": "ba89c4a6-8e25-454f-be02-2e18df1b5f03",
   "metadata": {},
   "outputs": [],
   "source": [
    "import os\n",
    "import tensorflow as tf\n",
    "import numpy as np\n",
    "from tensorflow import keras\n",
    "import diffusion_gnn_main\n",
    "from copy import deepcopy\n",
    "import matplotlib.pyplot as plt\n",
    "from matplotlib.animation import FuncAnimation\n",
    "\n",
    "from tensorflow.python.ops.numpy_ops import np_config\n",
    "np_config.enable_numpy_behavior()"
   ]
  },
  {
   "cell_type": "code",
   "execution_count": 2,
   "id": "32e7ec5e-9dad-49c0-91f3-38812bc2692c",
   "metadata": {},
   "outputs": [],
   "source": [
    "os.environ['TF_CPP_MIN_LOG_LEVEL'] = '2' "
   ]
  },
  {
   "cell_type": "code",
   "execution_count": 3,
   "id": "69677e21-9170-4ad5-86a3-d3b2f66fb7f4",
   "metadata": {},
   "outputs": [
    {
     "name": "stdout",
     "output_type": "stream",
     "text": [
      "GPU 0: NVIDIA A100-SXM4-40GB (UUID: GPU-97fd4384-7900-db08-f9f3-7accad71c9bc)\n",
      "GPU 1: NVIDIA A100-SXM4-40GB (UUID: GPU-b8eb19f6-34ec-865f-55fc-3c9557e4715f)\n",
      "GPU 2: NVIDIA A100-SXM4-40GB (UUID: GPU-8dc97fbd-8c46-3c02-0bf3-32c8ea8648e1)\n",
      "GPU 3: NVIDIA A100-SXM4-40GB (UUID: GPU-037d8cd8-8c3e-0b36-4f8c-0030ac2b79a9)\n"
     ]
    }
   ],
   "source": [
    "! nvidia-smi -L # list GPUs available"
   ]
  },
  {
   "cell_type": "code",
   "execution_count": 4,
   "id": "e04985f8-1d86-41c1-b57f-e21b6da8aa20",
   "metadata": {},
   "outputs": [],
   "source": [
    "### GPU Setup\n",
    "os.environ[\"CUDA_VISIBLE_DEVICES\"] = \"1\"\n",
    "physical_devices = tf.config.list_physical_devices('GPU') \n",
    "tf.config.experimental.set_memory_growth(physical_devices[0], True)"
   ]
  },
  {
   "cell_type": "code",
   "execution_count": 5,
   "id": "99913e94-07a5-4aab-a851-3150e5a2deaf",
   "metadata": {},
   "outputs": [],
   "source": [
    "batch_count = 50\n",
    "batch_size = 10\n",
    "num_nodes = 1\n",
    "num_features = 1\n",
    "\n",
    "diffusion_steps = 10\n",
    "min_beta = 1e-4\n",
    "max_beta = 0.02\n",
    "\n",
    "checkpoint_path = \"training11/cp-{epoch:04d}.ckpt\"\n",
    "checkpoint_dir = os.path.dirname(checkpoint_path)"
   ]
  },
  {
   "cell_type": "code",
   "execution_count": 6,
   "id": "040f9802-b1fb-4f65-8821-09c80a27e04e",
   "metadata": {
    "tags": []
   },
   "outputs": [],
   "source": [
    "diffusion_model = diffusion_gnn_main.DiffusiveGenerativeNetwork(\n",
    "    num_nodes, diffusion_gnn_main.BetaScheduler(min_beta, max_beta, diffusion_steps), 8, num_features, 8, diffusion_steps)"
   ]
  },
  {
   "cell_type": "code",
   "execution_count": 7,
   "id": "06187f4e-80da-404c-a27e-1b7179fd997f",
   "metadata": {},
   "outputs": [],
   "source": [
    "def generate_input_data(batch_count, batch_size, num_nodes, num_features):\n",
    "    return tf.random.normal([batch_count * batch_size, num_nodes, num_features])\n",
    "\n",
    "\n",
    "def generate_training_data(batch_count, batch_size, num_nodes, num_features):\n",
    "    return tf.random.normal([batch_count * batch_size, num_nodes, num_features], mean = 5., stddev = 3.)\n",
    "    #return tf.random.uniform([batch_count * batch_size, num_nodes, num_features])"
   ]
  },
  {
   "cell_type": "code",
   "execution_count": 49,
   "id": "6d8e22bb-45b9-4242-b216-e917eb1d95fe",
   "metadata": {},
   "outputs": [],
   "source": [
    "optimizer = keras.optimizers.RMSprop(learning_rate = 2e-5)"
   ]
  },
  {
   "cell_type": "code",
   "execution_count": 50,
   "id": "1d1be0a0-839d-498d-b1f9-2f9e37bc8615",
   "metadata": {},
   "outputs": [],
   "source": [
    "# Instantiate an optimizer.\n",
    "optimizer = keras.optimizers.RMSprop(learning_rate = 4e-4)#5e-3)\n",
    "\n",
    "x_train = generate_input_data(batch_count, batch_size, num_nodes, num_features)\n",
    "y_train = generate_training_data(batch_count, batch_size, num_nodes, num_features)\n",
    "\n",
    "# Reserve 1000 samples for validation.\n",
    "validation_count = 1\n",
    "\n",
    "x_val = x_train[-validation_count:]\n",
    "y_val = y_train[-validation_count:]\n",
    "x_train = x_train[:-validation_count]\n",
    "y_train = y_train[:-validation_count]\n",
    "\n",
    "# Prepare the training dataset.\n",
    "train_dataset = tf.data.Dataset.from_tensor_slices((x_train, y_train))\n",
    "#train_dataset = train_dataset.shuffle(buffer_size = batch_size - validation_count).batch(batch_size)\n",
    "train_dataset = train_dataset.batch(batch_size)\n",
    "\n",
    "# Prepare the validation dataset.\n",
    "val_dataset = tf.data.Dataset.from_tensor_slices((x_val, y_val))\n",
    "val_dataset = val_dataset.batch(batch_size)"
   ]
  },
  {
   "cell_type": "code",
   "execution_count": 51,
   "id": "c4137976-9f06-4e97-bbbe-95db52ab2880",
   "metadata": {
    "tags": []
   },
   "outputs": [
    {
     "data": {
      "text/plain": [
       "<diffusion_gnn_main.Graph at 0x1514dcce0d90>"
      ]
     },
     "execution_count": 51,
     "metadata": {},
     "output_type": "execute_result"
    }
   ],
   "source": [
    "x_batch_train = tf.reshape(x_train, [x_train.shape[0] * x_train.shape[1], x_train.shape[2]])\n",
    "x_batch_train = diffusion_gnn_main.Graph.generate_fully_connected_graph(x_batch_train, num_nodes, x_batch_train.shape[0])\n",
    "diffusion_model(x_batch_train)"
   ]
  },
  {
   "cell_type": "code",
   "execution_count": 52,
   "id": "0e35da42-db3c-4d2c-97d5-867a678c84e2",
   "metadata": {},
   "outputs": [
    {
     "name": "stdout",
     "output_type": "stream",
     "text": [
      "Model: \"gnn_4\"\n",
      "_________________________________________________________________\n",
      " Layer (type)                Output Shape              Param #   \n",
      "=================================================================\n",
      " dense_72 (Dense)            multiple                  8         \n",
      "                                                                 \n",
      " dense_73 (Dense)            multiple                  16        \n",
      "                                                                 \n",
      " gcl_32 (GCL)                multiple                  152       \n",
      "                                                                 \n",
      " gcl_33 (GCL)                multiple                  152       \n",
      "                                                                 \n",
      " gcl_34 (GCL)                multiple                  152       \n",
      "                                                                 \n",
      " gcl_35 (GCL)                multiple                  152       \n",
      "                                                                 \n",
      " gcl_36 (GCL)                multiple                  152       \n",
      "                                                                 \n",
      " gcl_37 (GCL)                multiple                  152       \n",
      "                                                                 \n",
      " gcl_38 (GCL)                multiple                  152       \n",
      "                                                                 \n",
      " gcl_39 (GCL)                multiple                  152       \n",
      "                                                                 \n",
      "=================================================================\n",
      "Total params: 1,240\n",
      "Trainable params: 1,240\n",
      "Non-trainable params: 0\n",
      "_________________________________________________________________\n"
     ]
    }
   ],
   "source": [
    "diffusion_model.denoiser_model.summary()"
   ]
  },
  {
   "cell_type": "code",
   "execution_count": 11,
   "id": "c1b03b91-9970-4e46-af45-ac33b3228d43",
   "metadata": {},
   "outputs": [
    {
     "data": {
      "text/plain": [
       "<tensorflow.python.training.tracking.util.CheckpointLoadStatus at 0x151ed1bc8f70>"
      ]
     },
     "execution_count": 11,
     "metadata": {},
     "output_type": "execute_result"
    }
   ],
   "source": [
    "diffusion_model.load_weights(\"training11/cp-0006.ckpt\")"
   ]
  },
  {
   "cell_type": "code",
   "execution_count": 53,
   "id": "c960cda5-baa9-45f4-9b51-a64cc8fcd65a",
   "metadata": {
    "tags": []
   },
   "outputs": [
    {
     "name": "stdout",
     "output_type": "stream",
     "text": [
      "50/50 [==============================] - 5s 90ms/step - epoch: 0.0000e+00 - loss: 14.6357\n",
      "50/50 [==============================] - 4s 90ms/step - epoch: 1.0000 - loss: 11.5200\n",
      "50/50 [==============================] - 4s 90ms/step - epoch: 2.0000 - loss: 9.2458\n",
      "50/50 [==============================] - 4s 90ms/step - epoch: 3.0000 - loss: 7.5351\n",
      "50/50 [==============================] - 5s 90ms/step - epoch: 4.0000 - loss: 6.2261\n",
      "50/50 [==============================] - 5s 90ms/step - epoch: 5.0000 - loss: 5.2459\n",
      "50/50 [==============================] - 4s 90ms/step - epoch: 6.0000 - loss: 4.5371\n",
      "50/50 [==============================] - 4s 89ms/step - epoch: 7.0000 - loss: 4.0211\n",
      "50/50 [==============================] - 4s 89ms/step - epoch: 8.0000 - loss: 3.6443\n",
      "50/50 [==============================] - 4s 90ms/step - epoch: 9.0000 - loss: 3.3673\n",
      "50/50 [==============================] - 4s 89ms/step - epoch: 10.0000 - loss: 3.1625\n",
      "50/50 [==============================] - 4s 90ms/step - epoch: 11.0000 - loss: 3.0093\n",
      "50/50 [==============================] - 4s 89ms/step - epoch: 12.0000 - loss: 2.8904\n",
      "50/50 [==============================] - 4s 90ms/step - epoch: 13.0000 - loss: 2.7948\n",
      "50/50 [==============================] - 4s 89ms/step - epoch: 14.0000 - loss: 2.7184\n",
      "50/50 [==============================] - 4s 90ms/step - epoch: 15.0000 - loss: 2.6547\n",
      "50/50 [==============================] - 4s 90ms/step - epoch: 16.0000 - loss: 2.5937\n",
      "50/50 [==============================] - 4s 90ms/step - epoch: 17.0000 - loss: 2.5308\n",
      "50/50 [==============================] - 4s 89ms/step - epoch: 18.0000 - loss: 2.4652\n",
      "50/50 [==============================] - 4s 89ms/step - epoch: 19.0000 - loss: 2.3966\n",
      "50/50 [==============================] - 4s 89ms/step - epoch: 20.0000 - loss: 2.3242\n",
      "50/50 [==============================] - 4s 89ms/step - epoch: 21.0000 - loss: 2.2473\n",
      "50/50 [==============================] - 4s 89ms/step - epoch: 22.0000 - loss: 2.1647\n",
      "50/50 [==============================] - 4s 89ms/step - epoch: 23.0000 - loss: 2.0748\n",
      "50/50 [==============================] - 4s 89ms/step - epoch: 24.0000 - loss: 1.9751\n",
      "50/50 [==============================] - 4s 89ms/step - epoch: 25.0000 - loss: 1.8666\n",
      "50/50 [==============================] - 4s 89ms/step - epoch: 26.0000 - loss: 1.7531\n",
      "50/50 [==============================] - 4s 90ms/step - epoch: 27.0000 - loss: 1.6339\n",
      "50/50 [==============================] - 4s 89ms/step - epoch: 28.0000 - loss: 1.5082\n",
      "50/50 [==============================] - 4s 90ms/step - epoch: 29.0000 - loss: 1.3763\n",
      "50/50 [==============================] - 4s 90ms/step - epoch: 30.0000 - loss: 1.2383\n",
      "50/50 [==============================] - 4s 89ms/step - epoch: 31.0000 - loss: 1.0947\n",
      "50/50 [==============================] - 4s 89ms/step - epoch: 32.0000 - loss: 0.9452\n",
      "50/50 [==============================] - 4s 89ms/step - epoch: 33.0000 - loss: 0.7956\n",
      "50/50 [==============================] - 4s 89ms/step - epoch: 34.0000 - loss: 0.6552\n",
      "50/50 [==============================] - 5s 90ms/step - epoch: 35.0000 - loss: 0.5317\n",
      "50/50 [==============================] - 5s 91ms/step - epoch: 36.0000 - loss: 0.4347\n",
      "50/50 [==============================] - 5s 91ms/step - epoch: 37.0000 - loss: 0.3677\n",
      "50/50 [==============================] - 5s 91ms/step - epoch: 38.0000 - loss: 0.3212\n",
      "50/50 [==============================] - 5s 91ms/step - epoch: 39.0000 - loss: 0.2883\n",
      "50/50 [==============================] - 5s 91ms/step - epoch: 40.0000 - loss: 0.2657\n",
      "50/50 [==============================] - 5s 91ms/step - epoch: 41.0000 - loss: 0.2509\n",
      "50/50 [==============================] - 5s 91ms/step - epoch: 42.0000 - loss: 0.2419\n",
      "50/50 [==============================] - 5s 91ms/step - epoch: 43.0000 - loss: 0.2366\n",
      "50/50 [==============================] - 5s 91ms/step - epoch: 44.0000 - loss: 0.2336\n",
      "50/50 [==============================] - 5s 91ms/step - epoch: 45.0000 - loss: 0.2317\n",
      "50/50 [==============================] - 5s 90ms/step - epoch: 46.0000 - loss: 0.2309\n",
      "50/50 [==============================] - 5s 91ms/step - epoch: 47.0000 - loss: 0.2304\n",
      "50/50 [==============================] - 5s 91ms/step - epoch: 48.0000 - loss: 0.2301\n",
      "50/50 [==============================] - 5s 90ms/step - epoch: 49.0000 - loss: 0.2300\n",
      "50/50 [==============================] - 5s 90ms/step - epoch: 50.0000 - loss: 0.2299\n",
      "50/50 [==============================] - 5s 91ms/step - epoch: 51.0000 - loss: 0.2298\n",
      "50/50 [==============================] - 5s 91ms/step - epoch: 52.0000 - loss: 0.2298\n",
      "50/50 [==============================] - 4s 89ms/step - epoch: 53.0000 - loss: 0.2298\n",
      "50/50 [==============================] - 4s 89ms/step - epoch: 54.0000 - loss: 0.2299\n",
      "50/50 [==============================] - 4s 89ms/step - epoch: 55.0000 - loss: 0.2299\n",
      "50/50 [==============================] - 4s 89ms/step - epoch: 56.0000 - loss: 0.2298\n",
      "50/50 [==============================] - 4s 90ms/step - epoch: 57.0000 - loss: 0.2298\n",
      "50/50 [==============================] - 4s 89ms/step - epoch: 58.0000 - loss: 0.2299\n",
      "50/50 [==============================] - 4s 89ms/step - epoch: 59.0000 - loss: 0.2300\n",
      "50/50 [==============================] - 4s 90ms/step - epoch: 60.0000 - loss: 0.2299\n",
      "50/50 [==============================] - 4s 89ms/step - epoch: 61.0000 - loss: 0.2299\n",
      "50/50 [==============================] - 4s 90ms/step - epoch: 62.0000 - loss: 0.2299\n",
      "50/50 [==============================] - 4s 90ms/step - epoch: 63.0000 - loss: 0.2298\n",
      "50/50 [==============================] - 5s 90ms/step - epoch: 64.0000 - loss: 0.2297\n",
      "50/50 [==============================] - 5s 90ms/step - epoch: 65.0000 - loss: 0.2296\n",
      "50/50 [==============================] - 5s 91ms/step - epoch: 66.0000 - loss: 0.2297\n",
      "32/50 [==================>...........] - ETA: 1s - epoch: 67.0000 - loss: 0.2407"
     ]
    },
    {
     "ename": "KeyboardInterrupt",
     "evalue": "",
     "output_type": "error",
     "traceback": [
      "\u001b[0;31m---------------------------------------------------------------------------\u001b[0m",
      "\u001b[0;31mKeyboardInterrupt\u001b[0m                         Traceback (most recent call last)",
      "Cell \u001b[0;32mIn[53], line 33\u001b[0m\n\u001b[1;32m     29\u001b[0m grads \u001b[38;5;241m=\u001b[39m tape\u001b[38;5;241m.\u001b[39mgradient(loss_value, diffusion_model\u001b[38;5;241m.\u001b[39mtrainable_weights)\n\u001b[1;32m     31\u001b[0m \u001b[38;5;66;03m# Run one step of gradient descent by updating\u001b[39;00m\n\u001b[1;32m     32\u001b[0m \u001b[38;5;66;03m# the value of the variables to minimize the loss.\u001b[39;00m\n\u001b[0;32m---> 33\u001b[0m \u001b[43moptimizer\u001b[49m\u001b[38;5;241;43m.\u001b[39;49m\u001b[43mapply_gradients\u001b[49m\u001b[43m(\u001b[49m\u001b[38;5;28;43mzip\u001b[39;49m\u001b[43m(\u001b[49m\u001b[43mgrads\u001b[49m\u001b[43m,\u001b[49m\u001b[43m \u001b[49m\u001b[43mdiffusion_model\u001b[49m\u001b[38;5;241;43m.\u001b[39;49m\u001b[43mtrainable_weights\u001b[49m\u001b[43m)\u001b[49m\u001b[43m)\u001b[49m\n\u001b[1;32m     35\u001b[0m losses\u001b[38;5;241m.\u001b[39mappend(\u001b[38;5;28mfloat\u001b[39m(tf\u001b[38;5;241m.\u001b[39mmath\u001b[38;5;241m.\u001b[39mreduce_mean(loss_value)))\n\u001b[1;32m     36\u001b[0m progress_bar\u001b[38;5;241m.\u001b[39mupdate(step \u001b[38;5;241m+\u001b[39m \u001b[38;5;241m1\u001b[39m, values \u001b[38;5;241m=\u001b[39m [(\u001b[38;5;124m'\u001b[39m\u001b[38;5;124mepoch\u001b[39m\u001b[38;5;124m'\u001b[39m, \u001b[38;5;28mint\u001b[39m(epoch)), (\u001b[38;5;124m'\u001b[39m\u001b[38;5;124mloss\u001b[39m\u001b[38;5;124m'\u001b[39m, np\u001b[38;5;241m.\u001b[39mmean(losses))])\n",
      "File \u001b[0;32m/global/common/software/nersc/pm-2022q4/sw/tensorflow/2.9.0/lib/python3.9/site-packages/keras/optimizers/optimizer_v2/optimizer_v2.py:678\u001b[0m, in \u001b[0;36mOptimizerV2.apply_gradients\u001b[0;34m(self, grads_and_vars, name, experimental_aggregate_gradients)\u001b[0m\n\u001b[1;32m    675\u001b[0m   grads_and_vars \u001b[38;5;241m=\u001b[39m \u001b[38;5;28mself\u001b[39m\u001b[38;5;241m.\u001b[39m_aggregate_gradients(grads_and_vars)\n\u001b[1;32m    676\u001b[0m grads_and_vars \u001b[38;5;241m=\u001b[39m \u001b[38;5;28mself\u001b[39m\u001b[38;5;241m.\u001b[39m_transform_gradients(grads_and_vars)\n\u001b[0;32m--> 678\u001b[0m \u001b[38;5;28;01mreturn\u001b[39;00m \u001b[43mtf\u001b[49m\u001b[38;5;241;43m.\u001b[39;49m\u001b[43m__internal__\u001b[49m\u001b[38;5;241;43m.\u001b[39;49m\u001b[43mdistribute\u001b[49m\u001b[38;5;241;43m.\u001b[39;49m\u001b[43minterim\u001b[49m\u001b[38;5;241;43m.\u001b[39;49m\u001b[43mmaybe_merge_call\u001b[49m\u001b[43m(\u001b[49m\n\u001b[1;32m    679\u001b[0m \u001b[43m    \u001b[49m\u001b[43mfunctools\u001b[49m\u001b[38;5;241;43m.\u001b[39;49m\u001b[43mpartial\u001b[49m\u001b[43m(\u001b[49m\u001b[38;5;28;43mself\u001b[39;49m\u001b[38;5;241;43m.\u001b[39;49m\u001b[43m_distributed_apply\u001b[49m\u001b[43m,\u001b[49m\u001b[43m \u001b[49m\u001b[43mapply_state\u001b[49m\u001b[38;5;241;43m=\u001b[39;49m\u001b[43mapply_state\u001b[49m\u001b[43m)\u001b[49m\u001b[43m,\u001b[49m\n\u001b[1;32m    680\u001b[0m \u001b[43m    \u001b[49m\u001b[43mstrategy\u001b[49m\u001b[43m,\u001b[49m\n\u001b[1;32m    681\u001b[0m \u001b[43m    \u001b[49m\u001b[43mgrads_and_vars\u001b[49m\u001b[43m,\u001b[49m\n\u001b[1;32m    682\u001b[0m \u001b[43m    \u001b[49m\u001b[43mname\u001b[49m\u001b[38;5;241;43m=\u001b[39;49m\u001b[43mname\u001b[49m\u001b[43m)\u001b[49m\n",
      "File \u001b[0;32m/global/common/software/nersc/pm-2022q4/sw/tensorflow/2.9.0/lib/python3.9/site-packages/tensorflow/python/distribute/merge_call_interim.py:51\u001b[0m, in \u001b[0;36mmaybe_merge_call\u001b[0;34m(fn, strategy, *args, **kwargs)\u001b[0m\n\u001b[1;32m     31\u001b[0m \u001b[38;5;124;03m\"\"\"Maybe invoke `fn` via `merge_call` which may or may not be fulfilled.\u001b[39;00m\n\u001b[1;32m     32\u001b[0m \n\u001b[1;32m     33\u001b[0m \u001b[38;5;124;03mThe caller of this utility function requests to invoke `fn` via `merge_call`\u001b[39;00m\n\u001b[0;32m   (...)\u001b[0m\n\u001b[1;32m     48\u001b[0m \u001b[38;5;124;03m  The return value of the `fn` call.\u001b[39;00m\n\u001b[1;32m     49\u001b[0m \u001b[38;5;124;03m\"\"\"\u001b[39;00m\n\u001b[1;32m     50\u001b[0m \u001b[38;5;28;01mif\u001b[39;00m strategy_supports_no_merge_call():\n\u001b[0;32m---> 51\u001b[0m   \u001b[38;5;28;01mreturn\u001b[39;00m \u001b[43mfn\u001b[49m\u001b[43m(\u001b[49m\u001b[43mstrategy\u001b[49m\u001b[43m,\u001b[49m\u001b[43m \u001b[49m\u001b[38;5;241;43m*\u001b[39;49m\u001b[43margs\u001b[49m\u001b[43m,\u001b[49m\u001b[43m \u001b[49m\u001b[38;5;241;43m*\u001b[39;49m\u001b[38;5;241;43m*\u001b[39;49m\u001b[43mkwargs\u001b[49m\u001b[43m)\u001b[49m\n\u001b[1;32m     52\u001b[0m \u001b[38;5;28;01melse\u001b[39;00m:\n\u001b[1;32m     53\u001b[0m   \u001b[38;5;28;01mreturn\u001b[39;00m distribution_strategy_context\u001b[38;5;241m.\u001b[39mget_replica_context()\u001b[38;5;241m.\u001b[39mmerge_call(\n\u001b[1;32m     54\u001b[0m       fn, args\u001b[38;5;241m=\u001b[39margs, kwargs\u001b[38;5;241m=\u001b[39mkwargs)\n",
      "File \u001b[0;32m/global/common/software/nersc/pm-2022q4/sw/tensorflow/2.9.0/lib/python3.9/site-packages/keras/optimizers/optimizer_v2/optimizer_v2.py:723\u001b[0m, in \u001b[0;36mOptimizerV2._distributed_apply\u001b[0;34m(self, distribution, grads_and_vars, apply_state, name)\u001b[0m\n\u001b[1;32m    719\u001b[0m \u001b[38;5;28;01mwith\u001b[39;00m distribution\u001b[38;5;241m.\u001b[39mextended\u001b[38;5;241m.\u001b[39mcolocate_vars_with(var):\n\u001b[1;32m    720\u001b[0m   \u001b[38;5;28;01mwith\u001b[39;00m name_scope_only_in_function_or_graph(\n\u001b[1;32m    721\u001b[0m       \u001b[38;5;124m\"\u001b[39m\u001b[38;5;124mupdate\u001b[39m\u001b[38;5;124m\"\u001b[39m \u001b[38;5;28;01mif\u001b[39;00m eagerly_outside_functions \u001b[38;5;28;01melse\u001b[39;00m \u001b[38;5;124m\"\u001b[39m\u001b[38;5;124mupdate_\u001b[39m\u001b[38;5;124m\"\u001b[39m \u001b[38;5;241m+\u001b[39m\n\u001b[1;32m    722\u001b[0m       var\u001b[38;5;241m.\u001b[39mop\u001b[38;5;241m.\u001b[39mname):\n\u001b[0;32m--> 723\u001b[0m     update_op \u001b[38;5;241m=\u001b[39m \u001b[43mdistribution\u001b[49m\u001b[38;5;241;43m.\u001b[39;49m\u001b[43mextended\u001b[49m\u001b[38;5;241;43m.\u001b[39;49m\u001b[43mupdate\u001b[49m\u001b[43m(\u001b[49m\n\u001b[1;32m    724\u001b[0m \u001b[43m        \u001b[49m\u001b[43mvar\u001b[49m\u001b[43m,\u001b[49m\u001b[43m \u001b[49m\u001b[43mapply_grad_to_update_var\u001b[49m\u001b[43m,\u001b[49m\u001b[43m \u001b[49m\u001b[43margs\u001b[49m\u001b[38;5;241;43m=\u001b[39;49m\u001b[43m(\u001b[49m\u001b[43mgrad\u001b[49m\u001b[43m,\u001b[49m\u001b[43m)\u001b[49m\u001b[43m,\u001b[49m\u001b[43m \u001b[49m\u001b[43mgroup\u001b[49m\u001b[38;5;241;43m=\u001b[39;49m\u001b[38;5;28;43;01mFalse\u001b[39;49;00m\u001b[43m)\u001b[49m\n\u001b[1;32m    725\u001b[0m     \u001b[38;5;28;01mif\u001b[39;00m tf\u001b[38;5;241m.\u001b[39mdistribute\u001b[38;5;241m.\u001b[39min_cross_replica_context():\n\u001b[1;32m    726\u001b[0m       \u001b[38;5;66;03m# In cross-replica context, extended.update returns a list of\u001b[39;00m\n\u001b[1;32m    727\u001b[0m       \u001b[38;5;66;03m# update ops from all replicas (group=False).\u001b[39;00m\n\u001b[1;32m    728\u001b[0m       update_ops\u001b[38;5;241m.\u001b[39mextend(update_op)\n",
      "File \u001b[0;32m/global/common/software/nersc/pm-2022q4/sw/tensorflow/2.9.0/lib/python3.9/site-packages/tensorflow/python/distribute/distribute_lib.py:2630\u001b[0m, in \u001b[0;36mStrategyExtendedV2.update\u001b[0;34m(self, var, fn, args, kwargs, group)\u001b[0m\n\u001b[1;32m   2627\u001b[0m   fn \u001b[38;5;241m=\u001b[39m autograph\u001b[38;5;241m.\u001b[39mtf_convert(\n\u001b[1;32m   2628\u001b[0m       fn, autograph_ctx\u001b[38;5;241m.\u001b[39mcontrol_status_ctx(), convert_by_default\u001b[38;5;241m=\u001b[39m\u001b[38;5;28;01mFalse\u001b[39;00m)\n\u001b[1;32m   2629\u001b[0m   \u001b[38;5;28;01mwith\u001b[39;00m \u001b[38;5;28mself\u001b[39m\u001b[38;5;241m.\u001b[39m_container_strategy()\u001b[38;5;241m.\u001b[39mscope():\n\u001b[0;32m-> 2630\u001b[0m     \u001b[38;5;28;01mreturn\u001b[39;00m \u001b[38;5;28;43mself\u001b[39;49m\u001b[38;5;241;43m.\u001b[39;49m\u001b[43m_update\u001b[49m\u001b[43m(\u001b[49m\u001b[43mvar\u001b[49m\u001b[43m,\u001b[49m\u001b[43m \u001b[49m\u001b[43mfn\u001b[49m\u001b[43m,\u001b[49m\u001b[43m \u001b[49m\u001b[43margs\u001b[49m\u001b[43m,\u001b[49m\u001b[43m \u001b[49m\u001b[43mkwargs\u001b[49m\u001b[43m,\u001b[49m\u001b[43m \u001b[49m\u001b[43mgroup\u001b[49m\u001b[43m)\u001b[49m\n\u001b[1;32m   2631\u001b[0m \u001b[38;5;28;01melse\u001b[39;00m:\n\u001b[1;32m   2632\u001b[0m   \u001b[38;5;28;01mreturn\u001b[39;00m \u001b[38;5;28mself\u001b[39m\u001b[38;5;241m.\u001b[39m_replica_ctx_update(\n\u001b[1;32m   2633\u001b[0m       var, fn, args\u001b[38;5;241m=\u001b[39margs, kwargs\u001b[38;5;241m=\u001b[39mkwargs, group\u001b[38;5;241m=\u001b[39mgroup)\n",
      "File \u001b[0;32m/global/common/software/nersc/pm-2022q4/sw/tensorflow/2.9.0/lib/python3.9/site-packages/tensorflow/python/distribute/distribute_lib.py:3703\u001b[0m, in \u001b[0;36m_DefaultDistributionExtended._update\u001b[0;34m(self, var, fn, args, kwargs, group)\u001b[0m\n\u001b[1;32m   3700\u001b[0m \u001b[38;5;28;01mdef\u001b[39;00m \u001b[38;5;21m_update\u001b[39m(\u001b[38;5;28mself\u001b[39m, var, fn, args, kwargs, group):\n\u001b[1;32m   3701\u001b[0m   \u001b[38;5;66;03m# The implementations of _update() and _update_non_slot() are identical\u001b[39;00m\n\u001b[1;32m   3702\u001b[0m   \u001b[38;5;66;03m# except _update() passes `var` as the first argument to `fn()`.\u001b[39;00m\n\u001b[0;32m-> 3703\u001b[0m   \u001b[38;5;28;01mreturn\u001b[39;00m \u001b[38;5;28;43mself\u001b[39;49m\u001b[38;5;241;43m.\u001b[39;49m\u001b[43m_update_non_slot\u001b[49m\u001b[43m(\u001b[49m\u001b[43mvar\u001b[49m\u001b[43m,\u001b[49m\u001b[43m \u001b[49m\u001b[43mfn\u001b[49m\u001b[43m,\u001b[49m\u001b[43m \u001b[49m\u001b[43m(\u001b[49m\u001b[43mvar\u001b[49m\u001b[43m,\u001b[49m\u001b[43m)\u001b[49m\u001b[43m \u001b[49m\u001b[38;5;241;43m+\u001b[39;49m\u001b[43m \u001b[49m\u001b[38;5;28;43mtuple\u001b[39;49m\u001b[43m(\u001b[49m\u001b[43margs\u001b[49m\u001b[43m)\u001b[49m\u001b[43m,\u001b[49m\u001b[43m \u001b[49m\u001b[43mkwargs\u001b[49m\u001b[43m,\u001b[49m\u001b[43m \u001b[49m\u001b[43mgroup\u001b[49m\u001b[43m)\u001b[49m\n",
      "File \u001b[0;32m/global/common/software/nersc/pm-2022q4/sw/tensorflow/2.9.0/lib/python3.9/site-packages/tensorflow/python/distribute/distribute_lib.py:3709\u001b[0m, in \u001b[0;36m_DefaultDistributionExtended._update_non_slot\u001b[0;34m(self, colocate_with, fn, args, kwargs, should_group)\u001b[0m\n\u001b[1;32m   3705\u001b[0m \u001b[38;5;28;01mdef\u001b[39;00m \u001b[38;5;21m_update_non_slot\u001b[39m(\u001b[38;5;28mself\u001b[39m, colocate_with, fn, args, kwargs, should_group):\n\u001b[1;32m   3706\u001b[0m   \u001b[38;5;66;03m# TODO(josh11b): Figure out what we should be passing to UpdateContext()\u001b[39;00m\n\u001b[1;32m   3707\u001b[0m   \u001b[38;5;66;03m# once that value is used for something.\u001b[39;00m\n\u001b[1;32m   3708\u001b[0m   \u001b[38;5;28;01mwith\u001b[39;00m UpdateContext(colocate_with):\n\u001b[0;32m-> 3709\u001b[0m     result \u001b[38;5;241m=\u001b[39m \u001b[43mfn\u001b[49m\u001b[43m(\u001b[49m\u001b[38;5;241;43m*\u001b[39;49m\u001b[43margs\u001b[49m\u001b[43m,\u001b[49m\u001b[43m \u001b[49m\u001b[38;5;241;43m*\u001b[39;49m\u001b[38;5;241;43m*\u001b[39;49m\u001b[43mkwargs\u001b[49m\u001b[43m)\u001b[49m\n\u001b[1;32m   3710\u001b[0m     \u001b[38;5;28;01mif\u001b[39;00m should_group:\n\u001b[1;32m   3711\u001b[0m       \u001b[38;5;28;01mreturn\u001b[39;00m result\n",
      "File \u001b[0;32m/global/common/software/nersc/pm-2022q4/sw/tensorflow/2.9.0/lib/python3.9/site-packages/tensorflow/python/autograph/impl/api.py:595\u001b[0m, in \u001b[0;36mcall_with_unspecified_conversion_status.<locals>.wrapper\u001b[0;34m(*args, **kwargs)\u001b[0m\n\u001b[1;32m    593\u001b[0m \u001b[38;5;28;01mdef\u001b[39;00m \u001b[38;5;21mwrapper\u001b[39m(\u001b[38;5;241m*\u001b[39margs, \u001b[38;5;241m*\u001b[39m\u001b[38;5;241m*\u001b[39mkwargs):\n\u001b[1;32m    594\u001b[0m   \u001b[38;5;28;01mwith\u001b[39;00m ag_ctx\u001b[38;5;241m.\u001b[39mControlStatusCtx(status\u001b[38;5;241m=\u001b[39mag_ctx\u001b[38;5;241m.\u001b[39mStatus\u001b[38;5;241m.\u001b[39mUNSPECIFIED):\n\u001b[0;32m--> 595\u001b[0m     \u001b[38;5;28;01mreturn\u001b[39;00m \u001b[43mfunc\u001b[49m\u001b[43m(\u001b[49m\u001b[38;5;241;43m*\u001b[39;49m\u001b[43margs\u001b[49m\u001b[43m,\u001b[49m\u001b[43m \u001b[49m\u001b[38;5;241;43m*\u001b[39;49m\u001b[38;5;241;43m*\u001b[39;49m\u001b[43mkwargs\u001b[49m\u001b[43m)\u001b[49m\n",
      "File \u001b[0;32m/global/common/software/nersc/pm-2022q4/sw/tensorflow/2.9.0/lib/python3.9/site-packages/keras/optimizers/optimizer_v2/optimizer_v2.py:706\u001b[0m, in \u001b[0;36mOptimizerV2._distributed_apply.<locals>.apply_grad_to_update_var\u001b[0;34m(var, grad)\u001b[0m\n\u001b[1;32m    704\u001b[0m \u001b[38;5;28;01mif\u001b[39;00m \u001b[38;5;124m\"\u001b[39m\u001b[38;5;124mapply_state\u001b[39m\u001b[38;5;124m\"\u001b[39m \u001b[38;5;129;01min\u001b[39;00m \u001b[38;5;28mself\u001b[39m\u001b[38;5;241m.\u001b[39m_dense_apply_args:\n\u001b[1;32m    705\u001b[0m   apply_kwargs[\u001b[38;5;124m\"\u001b[39m\u001b[38;5;124mapply_state\u001b[39m\u001b[38;5;124m\"\u001b[39m] \u001b[38;5;241m=\u001b[39m apply_state\n\u001b[0;32m--> 706\u001b[0m update_op \u001b[38;5;241m=\u001b[39m \u001b[38;5;28;43mself\u001b[39;49m\u001b[38;5;241;43m.\u001b[39;49m\u001b[43m_resource_apply_dense\u001b[49m\u001b[43m(\u001b[49m\u001b[43mgrad\u001b[49m\u001b[43m,\u001b[49m\u001b[43m \u001b[49m\u001b[43mvar\u001b[49m\u001b[43m,\u001b[49m\u001b[43m \u001b[49m\u001b[38;5;241;43m*\u001b[39;49m\u001b[38;5;241;43m*\u001b[39;49m\u001b[43mapply_kwargs\u001b[49m\u001b[43m)\u001b[49m\n\u001b[1;32m    707\u001b[0m \u001b[38;5;28;01mif\u001b[39;00m var\u001b[38;5;241m.\u001b[39mconstraint \u001b[38;5;129;01mis\u001b[39;00m \u001b[38;5;129;01mnot\u001b[39;00m \u001b[38;5;28;01mNone\u001b[39;00m:\n\u001b[1;32m    708\u001b[0m   \u001b[38;5;28;01mwith\u001b[39;00m tf\u001b[38;5;241m.\u001b[39mcontrol_dependencies([update_op]):\n",
      "File \u001b[0;32m/global/common/software/nersc/pm-2022q4/sw/tensorflow/2.9.0/lib/python3.9/site-packages/keras/optimizers/optimizer_v2/rmsprop.py:218\u001b[0m, in \u001b[0;36mRMSprop._resource_apply_dense\u001b[0;34m(self, grad, var, apply_state)\u001b[0m\n\u001b[1;32m    215\u001b[0m   denom_t \u001b[38;5;241m=\u001b[39m rms_t \u001b[38;5;241m-\u001b[39m tf\u001b[38;5;241m.\u001b[39msquare(mg_t)\n\u001b[1;32m    216\u001b[0m var_t \u001b[38;5;241m=\u001b[39m var \u001b[38;5;241m-\u001b[39m coefficients[\u001b[38;5;124m\"\u001b[39m\u001b[38;5;124mlr_t\u001b[39m\u001b[38;5;124m\"\u001b[39m] \u001b[38;5;241m*\u001b[39m grad \u001b[38;5;241m/\u001b[39m (\n\u001b[1;32m    217\u001b[0m     tf\u001b[38;5;241m.\u001b[39msqrt(denom_t) \u001b[38;5;241m+\u001b[39m coefficients[\u001b[38;5;124m\"\u001b[39m\u001b[38;5;124mepsilon\u001b[39m\u001b[38;5;124m\"\u001b[39m])\n\u001b[0;32m--> 218\u001b[0m \u001b[38;5;28;01mreturn\u001b[39;00m \u001b[43mtf\u001b[49m\u001b[38;5;241;43m.\u001b[39;49m\u001b[43mcompat\u001b[49m\u001b[38;5;241;43m.\u001b[39;49m\u001b[43mv1\u001b[49m\u001b[38;5;241;43m.\u001b[39;49m\u001b[43massign\u001b[49m\u001b[43m(\u001b[49m\u001b[43mvar\u001b[49m\u001b[43m,\u001b[49m\u001b[43m \u001b[49m\u001b[43mvar_t\u001b[49m\u001b[43m,\u001b[49m\u001b[43m \u001b[49m\u001b[43muse_locking\u001b[49m\u001b[38;5;241;43m=\u001b[39;49m\u001b[38;5;28;43mself\u001b[39;49m\u001b[38;5;241;43m.\u001b[39;49m\u001b[43m_use_locking\u001b[49m\u001b[43m)\u001b[49m\u001b[38;5;241m.\u001b[39mop\n",
      "File \u001b[0;32m/global/common/software/nersc/pm-2022q4/sw/tensorflow/2.9.0/lib/python3.9/site-packages/tensorflow/python/ops/state_ops.py:355\u001b[0m, in \u001b[0;36massign\u001b[0;34m(ref, value, validate_shape, use_locking, name)\u001b[0m\n\u001b[1;32m    351\u001b[0m \u001b[38;5;28;01mif\u001b[39;00m ref\u001b[38;5;241m.\u001b[39mdtype\u001b[38;5;241m.\u001b[39m_is_ref_dtype:\n\u001b[1;32m    352\u001b[0m   \u001b[38;5;28;01mreturn\u001b[39;00m gen_state_ops\u001b[38;5;241m.\u001b[39massign(\n\u001b[1;32m    353\u001b[0m       ref, value, use_locking\u001b[38;5;241m=\u001b[39muse_locking, name\u001b[38;5;241m=\u001b[39mname,\n\u001b[1;32m    354\u001b[0m       validate_shape\u001b[38;5;241m=\u001b[39mvalidate_shape)\n\u001b[0;32m--> 355\u001b[0m \u001b[38;5;28;01mreturn\u001b[39;00m \u001b[43mref\u001b[49m\u001b[38;5;241;43m.\u001b[39;49m\u001b[43massign\u001b[49m\u001b[43m(\u001b[49m\u001b[43mvalue\u001b[49m\u001b[43m,\u001b[49m\u001b[43m \u001b[49m\u001b[43mname\u001b[49m\u001b[38;5;241;43m=\u001b[39;49m\u001b[43mname\u001b[49m\u001b[43m)\u001b[49m\n",
      "File \u001b[0;32m/global/common/software/nersc/pm-2022q4/sw/tensorflow/2.9.0/lib/python3.9/site-packages/tensorflow/python/ops/resource_variable_ops.py:915\u001b[0m, in \u001b[0;36mBaseResourceVariable.assign\u001b[0;34m(self, value, use_locking, name, read_value)\u001b[0m\n\u001b[1;32m    912\u001b[0m   assign_op \u001b[38;5;241m=\u001b[39m gen_resource_variable_ops\u001b[38;5;241m.\u001b[39massign_variable_op(\n\u001b[1;32m    913\u001b[0m       \u001b[38;5;28mself\u001b[39m\u001b[38;5;241m.\u001b[39mhandle, value_tensor, name\u001b[38;5;241m=\u001b[39mname, \u001b[38;5;241m*\u001b[39m\u001b[38;5;241m*\u001b[39mkwargs)\n\u001b[1;32m    914\u001b[0m   \u001b[38;5;28;01mif\u001b[39;00m read_value:\n\u001b[0;32m--> 915\u001b[0m     \u001b[38;5;28;01mreturn\u001b[39;00m \u001b[38;5;28;43mself\u001b[39;49m\u001b[38;5;241;43m.\u001b[39;49m\u001b[43m_lazy_read\u001b[49m\u001b[43m(\u001b[49m\u001b[43massign_op\u001b[49m\u001b[43m)\u001b[49m\n\u001b[1;32m    916\u001b[0m \u001b[38;5;28;01mreturn\u001b[39;00m assign_op\n",
      "File \u001b[0;32m/global/common/software/nersc/pm-2022q4/sw/tensorflow/2.9.0/lib/python3.9/site-packages/tensorflow/python/ops/resource_variable_ops.py:869\u001b[0m, in \u001b[0;36mBaseResourceVariable._lazy_read\u001b[0;34m(self, op)\u001b[0m\n\u001b[1;32m    867\u001b[0m \u001b[38;5;28;01mdef\u001b[39;00m \u001b[38;5;21m_lazy_read\u001b[39m(\u001b[38;5;28mself\u001b[39m, op):\n\u001b[1;32m    868\u001b[0m   variable_accessed(\u001b[38;5;28mself\u001b[39m)\n\u001b[0;32m--> 869\u001b[0m   \u001b[38;5;28;01mreturn\u001b[39;00m \u001b[43m_UnreadVariable\u001b[49m\u001b[43m(\u001b[49m\n\u001b[1;32m    870\u001b[0m \u001b[43m      \u001b[49m\u001b[43mhandle\u001b[49m\u001b[38;5;241;43m=\u001b[39;49m\u001b[38;5;28;43mself\u001b[39;49m\u001b[38;5;241;43m.\u001b[39;49m\u001b[43mhandle\u001b[49m\u001b[43m,\u001b[49m\n\u001b[1;32m    871\u001b[0m \u001b[43m      \u001b[49m\u001b[43mdtype\u001b[49m\u001b[38;5;241;43m=\u001b[39;49m\u001b[38;5;28;43mself\u001b[39;49m\u001b[38;5;241;43m.\u001b[39;49m\u001b[43mdtype\u001b[49m\u001b[43m,\u001b[49m\n\u001b[1;32m    872\u001b[0m \u001b[43m      \u001b[49m\u001b[43mshape\u001b[49m\u001b[38;5;241;43m=\u001b[39;49m\u001b[38;5;28;43mself\u001b[39;49m\u001b[38;5;241;43m.\u001b[39;49m\u001b[43m_shape\u001b[49m\u001b[43m,\u001b[49m\n\u001b[1;32m    873\u001b[0m \u001b[43m      \u001b[49m\u001b[43min_graph_mode\u001b[49m\u001b[38;5;241;43m=\u001b[39;49m\u001b[38;5;28;43mself\u001b[39;49m\u001b[38;5;241;43m.\u001b[39;49m\u001b[43m_in_graph_mode\u001b[49m\u001b[43m,\u001b[49m\n\u001b[1;32m    874\u001b[0m \u001b[43m      \u001b[49m\u001b[43mparent_op\u001b[49m\u001b[38;5;241;43m=\u001b[39;49m\u001b[43mop\u001b[49m\u001b[43m,\u001b[49m\n\u001b[1;32m    875\u001b[0m \u001b[43m      \u001b[49m\u001b[43munique_id\u001b[49m\u001b[38;5;241;43m=\u001b[39;49m\u001b[38;5;28;43mself\u001b[39;49m\u001b[38;5;241;43m.\u001b[39;49m\u001b[43m_unique_id\u001b[49m\u001b[43m)\u001b[49m\n",
      "File \u001b[0;32m/global/common/software/nersc/pm-2022q4/sw/tensorflow/2.9.0/lib/python3.9/site-packages/tensorflow/python/util/traceback_utils.py:150\u001b[0m, in \u001b[0;36mfilter_traceback.<locals>.error_handler\u001b[0;34m(*args, **kwargs)\u001b[0m\n\u001b[1;32m    148\u001b[0m filtered_tb \u001b[38;5;241m=\u001b[39m \u001b[38;5;28;01mNone\u001b[39;00m\n\u001b[1;32m    149\u001b[0m \u001b[38;5;28;01mtry\u001b[39;00m:\n\u001b[0;32m--> 150\u001b[0m   \u001b[38;5;28;01mreturn\u001b[39;00m \u001b[43mfn\u001b[49m\u001b[43m(\u001b[49m\u001b[38;5;241;43m*\u001b[39;49m\u001b[43margs\u001b[49m\u001b[43m,\u001b[49m\u001b[43m \u001b[49m\u001b[38;5;241;43m*\u001b[39;49m\u001b[38;5;241;43m*\u001b[39;49m\u001b[43mkwargs\u001b[49m\u001b[43m)\u001b[49m\n\u001b[1;32m    151\u001b[0m \u001b[38;5;28;01mexcept\u001b[39;00m \u001b[38;5;167;01mException\u001b[39;00m \u001b[38;5;28;01mas\u001b[39;00m e:\n\u001b[1;32m    152\u001b[0m   filtered_tb \u001b[38;5;241m=\u001b[39m _process_traceback_frames(e\u001b[38;5;241m.\u001b[39m__traceback__)\n",
      "File \u001b[0;32m/global/common/software/nersc/pm-2022q4/sw/tensorflow/2.9.0/lib/python3.9/site-packages/tensorflow/python/ops/variables.py:268\u001b[0m, in \u001b[0;36mVariableMetaclass.__call__\u001b[0;34m(cls, *args, **kwargs)\u001b[0m\n\u001b[1;32m    266\u001b[0m   \u001b[38;5;28;01mreturn\u001b[39;00m \u001b[38;5;28mcls\u001b[39m\u001b[38;5;241m.\u001b[39m_variable_v2_call(\u001b[38;5;241m*\u001b[39margs, \u001b[38;5;241m*\u001b[39m\u001b[38;5;241m*\u001b[39mkwargs)\n\u001b[1;32m    267\u001b[0m \u001b[38;5;28;01melse\u001b[39;00m:\n\u001b[0;32m--> 268\u001b[0m   \u001b[38;5;28;01mreturn\u001b[39;00m \u001b[38;5;28;43msuper\u001b[39;49m\u001b[43m(\u001b[49m\u001b[43mVariableMetaclass\u001b[49m\u001b[43m,\u001b[49m\u001b[43m \u001b[49m\u001b[38;5;28;43mcls\u001b[39;49m\u001b[43m)\u001b[49m\u001b[38;5;241;43m.\u001b[39;49m\u001b[38;5;21;43m__call__\u001b[39;49m\u001b[43m(\u001b[49m\u001b[38;5;241;43m*\u001b[39;49m\u001b[43margs\u001b[49m\u001b[43m,\u001b[49m\u001b[43m \u001b[49m\u001b[38;5;241;43m*\u001b[39;49m\u001b[38;5;241;43m*\u001b[39;49m\u001b[43mkwargs\u001b[49m\u001b[43m)\u001b[49m\n",
      "File \u001b[0;32m/global/common/software/nersc/pm-2022q4/sw/tensorflow/2.9.0/lib/python3.9/site-packages/tensorflow/python/ops/resource_variable_ops.py:2108\u001b[0m, in \u001b[0;36m_UnreadVariable.__init__\u001b[0;34m(self, handle, dtype, shape, in_graph_mode, parent_op, unique_id)\u001b[0m\n\u001b[1;32m   2105\u001b[0m     graph_element \u001b[38;5;241m=\u001b[39m gen_resource_variable_ops\u001b[38;5;241m.\u001b[39mread_variable_op(\n\u001b[1;32m   2106\u001b[0m         handle, dtype)\n\u001b[1;32m   2107\u001b[0m     _maybe_set_handle_data(dtype, handle, graph_element)\n\u001b[0;32m-> 2108\u001b[0m \u001b[38;5;28;43msuper\u001b[39;49m\u001b[43m(\u001b[49m\u001b[43m_UnreadVariable\u001b[49m\u001b[43m,\u001b[49m\u001b[43m \u001b[49m\u001b[38;5;28;43mself\u001b[39;49m\u001b[43m)\u001b[49m\u001b[38;5;241;43m.\u001b[39;49m\u001b[38;5;21;43m__init__\u001b[39;49m\u001b[43m(\u001b[49m\n\u001b[1;32m   2109\u001b[0m \u001b[43m    \u001b[49m\u001b[43mhandle\u001b[49m\u001b[38;5;241;43m=\u001b[39;49m\u001b[43mhandle\u001b[49m\u001b[43m,\u001b[49m\n\u001b[1;32m   2110\u001b[0m \u001b[43m    \u001b[49m\u001b[43mshape\u001b[49m\u001b[38;5;241;43m=\u001b[39;49m\u001b[43mshape\u001b[49m\u001b[43m,\u001b[49m\n\u001b[1;32m   2111\u001b[0m \u001b[43m    \u001b[49m\u001b[43mhandle_name\u001b[49m\u001b[38;5;241;43m=\u001b[39;49m\u001b[43mhandle_name\u001b[49m\u001b[43m,\u001b[49m\n\u001b[1;32m   2112\u001b[0m \u001b[43m    \u001b[49m\u001b[43munique_id\u001b[49m\u001b[38;5;241;43m=\u001b[39;49m\u001b[43munique_id\u001b[49m\u001b[43m,\u001b[49m\n\u001b[1;32m   2113\u001b[0m \u001b[43m    \u001b[49m\u001b[43mdtype\u001b[49m\u001b[38;5;241;43m=\u001b[39;49m\u001b[43mdtype\u001b[49m\u001b[43m,\u001b[49m\n\u001b[1;32m   2114\u001b[0m \u001b[43m    \u001b[49m\u001b[43mgraph_element\u001b[49m\u001b[38;5;241;43m=\u001b[39;49m\u001b[43mgraph_element\u001b[49m\u001b[43m)\u001b[49m\n\u001b[1;32m   2115\u001b[0m \u001b[38;5;28mself\u001b[39m\u001b[38;5;241m.\u001b[39m_parent_op \u001b[38;5;241m=\u001b[39m parent_op\n",
      "File \u001b[0;32m/global/common/software/nersc/pm-2022q4/sw/tensorflow/2.9.0/lib/python3.9/site-packages/tensorflow/python/ops/resource_variable_ops.py:413\u001b[0m, in \u001b[0;36mBaseResourceVariable.__init__\u001b[0;34m(self, trainable, shape, dtype, handle, constraint, synchronization, aggregation, distribute_strategy, name, unique_id, handle_name, graph_element, initial_value, initializer_op, is_initialized_op, cached_value, save_slice_info, caching_device, in_graph_mode, validate_shape, **unused_kwargs)\u001b[0m\n\u001b[1;32m    411\u001b[0m \u001b[38;5;28;01mif\u001b[39;00m in_graph_mode \u001b[38;5;129;01mis\u001b[39;00m \u001b[38;5;28;01mNone\u001b[39;00m:\n\u001b[1;32m    412\u001b[0m   \u001b[38;5;28;01mwith\u001b[39;00m ops\u001b[38;5;241m.\u001b[39minit_scope():\n\u001b[0;32m--> 413\u001b[0m     \u001b[38;5;28mself\u001b[39m\u001b[38;5;241m.\u001b[39m_in_graph_mode \u001b[38;5;241m=\u001b[39m \u001b[38;5;129;01mnot\u001b[39;00m context\u001b[38;5;241m.\u001b[39mexecuting_eagerly()\n\u001b[1;32m    414\u001b[0m \u001b[38;5;28;01melse\u001b[39;00m:\n\u001b[1;32m    415\u001b[0m   \u001b[38;5;28mself\u001b[39m\u001b[38;5;241m.\u001b[39m_in_graph_mode \u001b[38;5;241m=\u001b[39m in_graph_mode\n",
      "File \u001b[0;32m/global/common/software/nersc/pm-2022q4/sw/tensorflow/2.9.0/lib/python3.9/contextlib.py:126\u001b[0m, in \u001b[0;36m_GeneratorContextManager.__exit__\u001b[0;34m(self, typ, value, traceback)\u001b[0m\n\u001b[1;32m    124\u001b[0m \u001b[38;5;28;01mif\u001b[39;00m typ \u001b[38;5;129;01mis\u001b[39;00m \u001b[38;5;28;01mNone\u001b[39;00m:\n\u001b[1;32m    125\u001b[0m     \u001b[38;5;28;01mtry\u001b[39;00m:\n\u001b[0;32m--> 126\u001b[0m         \u001b[38;5;28;43mnext\u001b[39;49m\u001b[43m(\u001b[49m\u001b[38;5;28;43mself\u001b[39;49m\u001b[38;5;241;43m.\u001b[39;49m\u001b[43mgen\u001b[49m\u001b[43m)\u001b[49m\n\u001b[1;32m    127\u001b[0m     \u001b[38;5;28;01mexcept\u001b[39;00m \u001b[38;5;167;01mStopIteration\u001b[39;00m:\n\u001b[1;32m    128\u001b[0m         \u001b[38;5;28;01mreturn\u001b[39;00m \u001b[38;5;28;01mFalse\u001b[39;00m\n",
      "File \u001b[0;32m/global/common/software/nersc/pm-2022q4/sw/tensorflow/2.9.0/lib/python3.9/site-packages/tensorflow/python/framework/ops.py:5928\u001b[0m, in \u001b[0;36minit_scope\u001b[0;34m()\u001b[0m\n\u001b[1;32m   5925\u001b[0m \u001b[38;5;28;01mif\u001b[39;00m context\u001b[38;5;241m.\u001b[39mexecuting_eagerly():\n\u001b[1;32m   5926\u001b[0m   \u001b[38;5;66;03m# Fastpath.\u001b[39;00m\n\u001b[1;32m   5927\u001b[0m   \u001b[38;5;28;01mwith\u001b[39;00m tape\u001b[38;5;241m.\u001b[39mstop_recording():\n\u001b[0;32m-> 5928\u001b[0m     \u001b[38;5;28;01myield\u001b[39;00m\n\u001b[1;32m   5929\u001b[0m \u001b[38;5;28;01melse\u001b[39;00m:\n\u001b[1;32m   5930\u001b[0m   \u001b[38;5;66;03m# Retrieve the active name scope: entering an `init_scope` preserves\u001b[39;00m\n\u001b[1;32m   5931\u001b[0m   \u001b[38;5;66;03m# the name scope of the current context.\u001b[39;00m\n\u001b[1;32m   5932\u001b[0m   scope \u001b[38;5;241m=\u001b[39m get_default_graph()\u001b[38;5;241m.\u001b[39mget_name_scope()\n",
      "File \u001b[0;32m/global/common/software/nersc/pm-2022q4/sw/tensorflow/2.9.0/lib/python3.9/contextlib.py:123\u001b[0m, in \u001b[0;36m_GeneratorContextManager.__exit__\u001b[0;34m(self, typ, value, traceback)\u001b[0m\n\u001b[1;32m    120\u001b[0m     \u001b[38;5;28;01mexcept\u001b[39;00m \u001b[38;5;167;01mStopIteration\u001b[39;00m:\n\u001b[1;32m    121\u001b[0m         \u001b[38;5;28;01mraise\u001b[39;00m \u001b[38;5;167;01mRuntimeError\u001b[39;00m(\u001b[38;5;124m\"\u001b[39m\u001b[38;5;124mgenerator didn\u001b[39m\u001b[38;5;124m'\u001b[39m\u001b[38;5;124mt yield\u001b[39m\u001b[38;5;124m\"\u001b[39m) \u001b[38;5;28;01mfrom\u001b[39;00m \u001b[38;5;28mNone\u001b[39m\n\u001b[0;32m--> 123\u001b[0m \u001b[38;5;28;01mdef\u001b[39;00m \u001b[38;5;21m__exit__\u001b[39m(\u001b[38;5;28mself\u001b[39m, typ, value, traceback):\n\u001b[1;32m    124\u001b[0m     \u001b[38;5;28;01mif\u001b[39;00m typ \u001b[38;5;129;01mis\u001b[39;00m \u001b[38;5;28;01mNone\u001b[39;00m:\n\u001b[1;32m    125\u001b[0m         \u001b[38;5;28;01mtry\u001b[39;00m:\n",
      "\u001b[0;31mKeyboardInterrupt\u001b[0m: "
     ]
    }
   ],
   "source": [
    "epochs = 500\n",
    "for epoch in range(epochs):\n",
    "    # Iterate over the batches of the dataset.\n",
    "    progress_bar = tf.keras.utils.Progbar(len(train_dataset), stateful_metrics = ['epoch', 'loss'])\n",
    "    losses = []\n",
    "    for step, (x_batch_train, y_batch_train) in enumerate(train_dataset):\n",
    "        batch_size_train = x_batch_train.shape[0]\n",
    "        x_batch_train = tf.reshape(x_batch_train, [x_batch_train.shape[0] * x_batch_train.shape[1], x_batch_train.shape[2]])\n",
    "        y_batch_train = tf.reshape(y_batch_train, [y_batch_train.shape[0] * y_batch_train.shape[1], y_batch_train.shape[2]])\n",
    "        x_batch_train = diffusion_gnn_main.Graph.generate_fully_connected_graph(x_batch_train, num_nodes, batch_size_train)\n",
    "        y_batch_train = diffusion_gnn_main.Graph.generate_fully_connected_graph(y_batch_train, num_nodes, batch_size_train)\n",
    "\n",
    "        # Open a GradientTape to record the operations run\n",
    "        # during the forward pass, which enables auto-differentiation.\n",
    "        with tf.GradientTape() as tape:\n",
    "            # Run the forward pass of the layer.\n",
    "            # The operations that the layer applies\n",
    "            # to its inputs are going to be recorded\n",
    "            # on the GradientTape.\n",
    "            logits = diffusion_model(x_batch_train, training = True)  # Logits for this minibatch\n",
    "            #print(logits.features)\n",
    "\n",
    "            # Compute the loss value for this minibatch.\n",
    "            loss_value = diffusion_model.compute_loss(y = y_batch_train)\n",
    "            #print(loss_value)\n",
    "\n",
    "        # Use the gradient tape to automatically retrieve\n",
    "        # the gradients of the trainable variables with respect to the loss.\n",
    "        grads = tape.gradient(loss_value, diffusion_model.trainable_weights)\n",
    "\n",
    "        # Run one step of gradient descent by updating\n",
    "        # the value of the variables to minimize the loss.\n",
    "        optimizer.apply_gradients(zip(grads, diffusion_model.trainable_weights))\n",
    "\n",
    "        losses.append(float(tf.math.reduce_mean(loss_value)))\n",
    "        progress_bar.update(step + 1, values = [('epoch', int(epoch)), ('loss', np.mean(losses))])\n",
    "    \n",
    "    diffusion_model.save_weights(checkpoint_path.format(epoch = epoch))"
   ]
  },
  {
   "cell_type": "code",
   "execution_count": 54,
   "id": "9f25855d-e48e-44ec-acef-9569c7a64f41",
   "metadata": {},
   "outputs": [
    {
     "name": "stdout",
     "output_type": "stream",
     "text": [
      "0.22859510779380798\n"
     ]
    }
   ],
   "source": [
    "x_features = np.array(list(map(lambda feature: feature[0], x_train)))\n",
    "y_features = np.array(list(map(lambda feature: feature[0], y_train)))\n",
    "x_train_features = tf.reshape(x_train, [x_train.shape[0] * x_train.shape[1], x_train.shape[2]])\n",
    "y_train_features = tf.reshape(y_train, [y_train.shape[0] * y_train.shape[1], y_train.shape[2]])\n",
    "y_batch_train = diffusion_gnn_main.Graph.generate_fully_connected_graph(y_train_features, num_nodes, batch_size)\n",
    "graph = diffusion_gnn_main.Graph.generate_fully_connected_graph(x_train_features, x_train.shape[1], x_train.shape[0])\n",
    "model_output = diffusion_model(graph)\n",
    "print(float(tf.math.reduce_mean(diffusion_model.compute_loss(y = y_batch_train))))"
   ]
  },
  {
   "cell_type": "code",
   "execution_count": 28,
   "id": "35387346-76bf-4201-92b8-dba121e9bc3a",
   "metadata": {
    "collapsed": true,
    "jupyter": {
     "outputs_hidden": true,
     "source_hidden": true
    },
    "tags": []
   },
   "outputs": [
    {
     "name": "stdout",
     "output_type": "stream",
     "text": [
      "(498, 1)\n"
     ]
    },
    {
     "name": "stderr",
     "output_type": "stream",
     "text": [
      "2023-02-25 17:32:26.146299: W tensorflow/core/framework/op_kernel.cc:1733] INVALID_ARGUMENT: required broadcastable shapes\n"
     ]
    },
    {
     "ename": "InvalidArgumentError",
     "evalue": "required broadcastable shapes [Op:Sub]",
     "output_type": "error",
     "traceback": [
      "\u001b[0;31m---------------------------------------------------------------------------\u001b[0m",
      "\u001b[0;31mInvalidArgumentError\u001b[0m                      Traceback (most recent call last)",
      "Cell \u001b[0;32mIn[28], line 2\u001b[0m\n\u001b[1;32m      1\u001b[0m \u001b[38;5;28mprint\u001b[39m(x_train_features\u001b[38;5;241m.\u001b[39mshape)\n\u001b[0;32m----> 2\u001b[0m \u001b[38;5;28mprint\u001b[39m(\u001b[38;5;28mfloat\u001b[39m(tf\u001b[38;5;241m.\u001b[39mmath\u001b[38;5;241m.\u001b[39mreduce_mean(\u001b[43mx_train_features\u001b[49m\u001b[43m[\u001b[49m\u001b[43m:\u001b[49m\u001b[43m,\u001b[49m\u001b[43m \u001b[49m\u001b[38;5;241;43m0\u001b[39;49m\u001b[43m]\u001b[49m\u001b[43m \u001b[49m\u001b[38;5;241;43m-\u001b[39;49m\u001b[43m \u001b[49m\u001b[43mtf\u001b[49m\u001b[38;5;241;43m.\u001b[39;49m\u001b[43mreshape\u001b[49m\u001b[43m(\u001b[49m\u001b[43mdiffusion_model\u001b[49m\u001b[38;5;241;43m.\u001b[39;49m\u001b[43mdiffused_inputs\u001b[49m\u001b[43m[\u001b[49m\u001b[38;5;241;43m-\u001b[39;49m\u001b[38;5;241;43m1\u001b[39;49m\u001b[43m]\u001b[49m\u001b[38;5;241;43m.\u001b[39;49m\u001b[43mfeatures\u001b[49m\u001b[43m,\u001b[49m\u001b[43m \u001b[49m\u001b[43m[\u001b[49m\u001b[38;5;241;43m-\u001b[39;49m\u001b[38;5;241;43m1\u001b[39;49m\u001b[43m]\u001b[49m\u001b[43m)\u001b[49m)))\n\u001b[1;32m      3\u001b[0m \u001b[38;5;28mprint\u001b[39m(x_features\u001b[38;5;241m.\u001b[39mshape)\n\u001b[1;32m      5\u001b[0m plt\u001b[38;5;241m.\u001b[39mhist(x_train_features[:, \u001b[38;5;241m0\u001b[39m], \u001b[38;5;241m100\u001b[39m, density \u001b[38;5;241m=\u001b[39m \u001b[38;5;28;01mTrue\u001b[39;00m, \u001b[38;5;28mrange\u001b[39m \u001b[38;5;241m=\u001b[39m (\u001b[38;5;241m-\u001b[39m\u001b[38;5;241m5\u001b[39m, \u001b[38;5;241m8\u001b[39m), alpha \u001b[38;5;241m=\u001b[39m \u001b[38;5;241m0.5\u001b[39m, label \u001b[38;5;241m=\u001b[39m \u001b[38;5;124m\"\u001b[39m\u001b[38;5;124minput data\u001b[39m\u001b[38;5;124m\"\u001b[39m)\n",
      "File \u001b[0;32m/global/common/software/nersc/pm-2022q4/sw/tensorflow/2.9.0/lib/python3.9/site-packages/tensorflow/python/util/traceback_utils.py:153\u001b[0m, in \u001b[0;36mfilter_traceback.<locals>.error_handler\u001b[0;34m(*args, **kwargs)\u001b[0m\n\u001b[1;32m    151\u001b[0m \u001b[38;5;28;01mexcept\u001b[39;00m \u001b[38;5;167;01mException\u001b[39;00m \u001b[38;5;28;01mas\u001b[39;00m e:\n\u001b[1;32m    152\u001b[0m   filtered_tb \u001b[38;5;241m=\u001b[39m _process_traceback_frames(e\u001b[38;5;241m.\u001b[39m__traceback__)\n\u001b[0;32m--> 153\u001b[0m   \u001b[38;5;28;01mraise\u001b[39;00m e\u001b[38;5;241m.\u001b[39mwith_traceback(filtered_tb) \u001b[38;5;28;01mfrom\u001b[39;00m \u001b[38;5;28mNone\u001b[39m\n\u001b[1;32m    154\u001b[0m \u001b[38;5;28;01mfinally\u001b[39;00m:\n\u001b[1;32m    155\u001b[0m   \u001b[38;5;28;01mdel\u001b[39;00m filtered_tb\n",
      "File \u001b[0;32m/global/common/software/nersc/pm-2022q4/sw/tensorflow/2.9.0/lib/python3.9/site-packages/tensorflow/python/framework/ops.py:7164\u001b[0m, in \u001b[0;36mraise_from_not_ok_status\u001b[0;34m(e, name)\u001b[0m\n\u001b[1;32m   7162\u001b[0m \u001b[38;5;28;01mdef\u001b[39;00m \u001b[38;5;21mraise_from_not_ok_status\u001b[39m(e, name):\n\u001b[1;32m   7163\u001b[0m   e\u001b[38;5;241m.\u001b[39mmessage \u001b[38;5;241m+\u001b[39m\u001b[38;5;241m=\u001b[39m (\u001b[38;5;124m\"\u001b[39m\u001b[38;5;124m name: \u001b[39m\u001b[38;5;124m\"\u001b[39m \u001b[38;5;241m+\u001b[39m name \u001b[38;5;28;01mif\u001b[39;00m name \u001b[38;5;129;01mis\u001b[39;00m \u001b[38;5;129;01mnot\u001b[39;00m \u001b[38;5;28;01mNone\u001b[39;00m \u001b[38;5;28;01melse\u001b[39;00m \u001b[38;5;124m\"\u001b[39m\u001b[38;5;124m\"\u001b[39m)\n\u001b[0;32m-> 7164\u001b[0m   \u001b[38;5;28;01mraise\u001b[39;00m core\u001b[38;5;241m.\u001b[39m_status_to_exception(e) \u001b[38;5;28;01mfrom\u001b[39;00m \u001b[38;5;28mNone\u001b[39m\n",
      "\u001b[0;31mInvalidArgumentError\u001b[0m: required broadcastable shapes [Op:Sub]"
     ]
    }
   ],
   "source": [
    "print(x_train_features.shape)\n",
    "print(float(tf.math.reduce_mean(x_train_features[:, 0] - tf.reshape(diffusion_model.diffused_inputs[-1].features, [-1]))))\n",
    "print(x_features.shape)\n",
    "\n",
    "plt.hist(x_train_features[:, 0], 100, density = True, range = (-5, 8), alpha = 0.5, label = \"input data\")\n",
    "plt.hist(tf.reshape(graph.features, [-1]), 100, range = (-5, 8), alpha = 0.5)\n",
    "plt.hist(tf.reshape(diffusion_model.diffused_inputs[-1].features, [-1]), 100, range = (-5, 8), alpha = 0.5)\n",
    "plt.show()"
   ]
  },
  {
   "cell_type": "code",
   "execution_count": 12,
   "id": "c07a98c6-0cf7-4719-9415-787ab2b8b408",
   "metadata": {},
   "outputs": [
    {
     "name": "stdout",
     "output_type": "stream",
     "text": [
      "tf.Tensor([[-1.1980251]], shape=(1, 1), dtype=float32)\n",
      "(<tf.Tensor: shape=(1, 1), dtype=float32, numpy=array([[nan]], dtype=float32)>, <tf.Tensor: shape=(1, 1), dtype=float32, numpy=array([[nan]], dtype=float32)>)\n",
      "tf.Tensor([[nan nan]], shape=(1, 2), dtype=float32)\n",
      "tf.Tensor([[nan]], shape=(1, 1), dtype=float32)\n"
     ]
    }
   ],
   "source": [
    "test_graph = diffusion_gnn_main.Graph.generate_fully_connected_graph(tf.reshape(graph.features[0], [1, 1]), 1, 1)\n",
    "test_model_output = diffusion_model(test_graph)\n",
    "print(test_graph.features)\n",
    "print(diffusion_model.get_model_mean_variance(test_graph, 49))\n",
    "print(diffusion_model.denoiser_model([test_graph, 49]).features)\n",
    "print(test_model_output.features)"
   ]
  },
  {
   "cell_type": "code",
   "execution_count": 31,
   "id": "7860628d-b415-40c4-82a0-ab4beaa7bead",
   "metadata": {
    "jupyter": {
     "source_hidden": true
    },
    "tags": []
   },
   "outputs": [],
   "source": [
    "output_features = tf.reshape(model_output.features, [model_output.features.shape[0] * model_output.features.shape[1]])"
   ]
  },
  {
   "cell_type": "code",
   "execution_count": 55,
   "id": "38f2b11a-090a-4f0b-8af7-f92aabe5e457",
   "metadata": {},
   "outputs": [
    {
     "data": {
      "image/png": "[encoded data removed]",
      "text/plain": [
       "<Figure size 640x480 with 1 Axes>"
      ]
     },
     "metadata": {},
     "output_type": "display_data"
    }
   ],
   "source": [
    "plt.hist(np.array(x_features).flatten(), 100, density = True, range = (-5, 10), alpha = 0.5, label = \"input data\")\n",
    "plt.hist(np.array(y_features).flatten(), 100, density = True, range = (-5, 10), alpha = 0.5, label = \"true output\")\n",
    "plt.hist(np.array(diffusion_model.diffused_inputs[0].features), 100, density = True, range = (-5, 10), alpha = 0.5, label = \"model output\")\n",
    "plt.legend()\n",
    "plt.title(\"Gaussian shift example - Diffusion step \" + str(0))\n",
    "plt.show()"
   ]
  },
  {
   "cell_type": "code",
   "execution_count": 56,
   "id": "905aaf64-0dd1-4654-afaf-d715fdcf81c0",
   "metadata": {},
   "outputs": [
    {
     "data": {
      "text/plain": [
       "<Figure size 640x480 with 0 Axes>"
      ]
     },
     "metadata": {},
     "output_type": "display_data"
    }
   ],
   "source": [
    "for i in range(len(diffusion_model.diffused_inputs)):\n",
    "    plt.hist(np.array(x_features).flatten(), 100, density = True, range = (-5, 8), alpha = 0.5, label = \"input data\")\n",
    "    plt.hist(np.array(y_features).flatten(), 100, density = True, range = (-5, 8), alpha = 0.5, label = \"true output\")\n",
    "    plt.hist(np.array(diffusion_model.diffused_inputs[i].features), 100, density = True, range = (-5, 8), alpha = 0.5, label = \"model output\")\n",
    "    plt.legend()\n",
    "    plt.title(\"Gaussian shift example - Diffusion step \" + str(i))\n",
    "    plt.savefig(\"plots/diffused_step_\" + str(i) + '.jpg', dpi = 200, format = 'jpg')\n",
    "    plt.clf()"
   ]
  },
  {
   "cell_type": "code",
   "execution_count": 51,
   "id": "6f7cb90f-08a8-40e9-ba2a-d96a9de1836d",
   "metadata": {},
   "outputs": [
    {
     "data": {
      "text/plain": [
       "<Figure size 640x480 with 0 Axes>"
      ]
     },
     "metadata": {},
     "output_type": "display_data"
    }
   ],
   "source": [
    "for i in range(len(diffusion_model.diffused_inputs)):\n",
    "    if i % 10 == 0:\n",
    "        plt.hist(np.array(x_features).flatten(), 100, density = True, range = (-5, 10), alpha = 0.5, label = \"input data\")\n",
    "        plt.hist(np.array(y_features).flatten(), 100, density = True, range = (-5, 10), alpha = 0.5, label = \"true output\")\n",
    "        plt.hist(np.array(diffusion_model.diffused_inputs[i].features), 100, density = True, range = (-5, 10), alpha = 0.5, label = \"model output\")\n",
    "        plt.legend()\n",
    "        plt.ylim((0, 3.))\n",
    "        plt.title(\"Gaussian shift example - Diffusion step \" + str(i))\n",
    "        plt.savefig(\"plots4/diffused_step_\" + str(i) + '.jpg', dpi = 200, format = 'jpg')\n",
    "        plt.clf()"
   ]
  },
  {
   "cell_type": "code",
   "execution_count": 81,
   "id": "07e6a88c-35f0-4d69-be16-952ea8ca0ef6",
   "metadata": {},
   "outputs": [
    {
     "name": "stderr",
     "output_type": "stream",
     "text": [
      "/tmp/ipykernel_87722/3761744473.py:15: DeprecationWarning: Numpy has detected that you (may be) writing to an array with\n",
      "overlapping memory from np.broadcast_arrays. If this is intentional\n",
      "set the WRITEABLE flag True or make a copy immediately before writing.\n",
      "  bar_container.datavalues[i] = np.array(diffusion_model.diffused_inputs[frame_number].features[i])\n"
     ]
    },
    {
     "data": {
      "image/png": "[encoded data removed]",
      "text/plain": [
       "<Figure size 640x480 with 1 Axes>"
      ]
     },
     "metadata": {},
     "output_type": "display_data"
    }
   ],
   "source": [
    "\"\"\"fig, ax = plt.subplots()\n",
    "xdata = []\n",
    "ax.hist(np.array(x_features).flatten(), 100, density = True, range = (-5, 10), alpha = 0.5, label = \"input data\")\n",
    "ax.hist(np.array(y_features).flatten(), 100, density = True, range = (-5, 10), alpha = 0.5, label = \"true output\")\n",
    "ln = ax.hist([], 100, density = True, range = (-5, 10), alpha = 0.5, label = \"model output\")\"\"\"\n",
    "\n",
    "def init():\n",
    "    ax.set_xlim(-5, 10)\n",
    "    ax.set_ylim(0, 3)\n",
    "    return ln\n",
    "\n",
    "def prepare_animation(bar_container):\n",
    "    def animate(frame_number):\n",
    "        for i in range(len(bar_container.patches)):\n",
    "            bar_container.datavalues[i] = np.array(diffusion_model.diffused_inputs[frame_number].features[i])\n",
    "        return bar_container.patches\n",
    "    return animate\n",
    "\n",
    "fig, ax = plt.subplots()\n",
    "#ax.hist(np.array(x_features).flatten(), 100, density = True, range = (-5, 10), alpha = 0.5, label = \"input data\")\n",
    "#ax.hist(np.array(y_features).flatten(), 100, density = True, range = (-5, 10), alpha = 0.5, label = \"true output\")\n",
    "_, _, bar_container = ax.hist(np.array(diffusion_model.diffused_inputs[-1].features), 100, density = True, range = (-5, 10), alpha = 0.5, label = \"model output\")\n",
    "ax.set_ylim(top=10)\n",
    "\n",
    "anim = FuncAnimation(fig, prepare_animation(bar_container), 100, repeat=True, blit=True, interval = 1000)\n",
    "plt.show()"
   ]
  },
  {
   "cell_type": "code",
   "execution_count": 82,
   "id": "8c4b524f-d512-47e1-811f-512660ea6e48",
   "metadata": {},
   "outputs": [],
   "source": [
    "anim.save('animations/animation.gif', writer='imagemagick', fps=20)"
   ]
  },
  {
   "cell_type": "code",
   "execution_count": null,
   "id": "cc274265-d32b-4447-8e42-74b8a64ca313",
   "metadata": {},
   "outputs": [],
   "source": []
  }
 ],
 "metadata": {
  "kernelspec": {
   "display_name": "tensorflow-2.9.0",
   "language": "python",
   "name": "tensorflow-2.9.0"
  },
  "language_info": {
   "codemirror_mode": {
    "name": "ipython",
    "version": 3
   },
   "file_extension": ".py",
   "mimetype": "text/x-python",
   "name": "python",
   "nbconvert_exporter": "python",
   "pygments_lexer": "ipython3",
   "version": "3.9.15"
  }
 },
 "nbformat": 4,
 "nbformat_minor": 5
}
